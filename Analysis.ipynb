{
 "cells": [
  {
   "cell_type": "markdown",
   "id": "a62e71f8",
   "metadata": {},
   "source": [
    "# Dimensionality reduction using (PCA)"
   ]
  },
  {
   "cell_type": "markdown",
   "id": "c1b91f21",
   "metadata": {},
   "source": [
    "In this project we will analyze the dataset `decathlon.xlsx` that entails which athletes and sports in which they have participated as well as their ranking and overall score. We will choose only the sport variables. There are 10 of them! Our <b> goal </b> will be to see if these 10 variables which create a space of <u> 10 dimensions </u> can be summarized in a smaller dimensional space!"
   ]
  },
  {
   "cell_type": "markdown",
   "id": "4eb7cd03",
   "metadata": {},
   "source": [
    "## Importing the appropriate packages"
   ]
  },
  {
   "cell_type": "code",
   "execution_count": 45,
   "id": "b0b46b3f",
   "metadata": {},
   "outputs": [],
   "source": [
    "import pandas as pd\n",
    "import matplotlib.pyplot as plt\n",
    "import numpy as np"
   ]
  },
  {
   "cell_type": "markdown",
   "id": "17b15693",
   "metadata": {},
   "source": [
    "## Loading our data"
   ]
  },
  {
   "cell_type": "code",
   "execution_count": 4,
   "id": "d3887337",
   "metadata": {},
   "outputs": [
    {
     "name": "stdout",
     "output_type": "stream",
     "text": [
      "  Unnamed: 0   100m  Long.jump  Shot.put  High.jump   400m  110m.hurdle  \\\n",
      "0     SEBRLE  11.04       7.58     14.83       2.07  49.81        14.69   \n",
      "1       CLAY  10.76       7.40     14.26       1.86  49.37        14.05   \n",
      "2     KARPOV  11.02       7.30     14.77       2.04  48.37        14.09   \n",
      "3    BERNARD  11.02       7.23     14.25       1.92  48.93        14.99   \n",
      "4     YURKOV  11.34       7.09     15.19       2.10  50.42        15.31   \n",
      "\n",
      "   Discus  Pole.vault  Javeline  1500m  Rank  Points Competition  \n",
      "0   43.75        5.02     63.19  291.7     1    8217    Decastar  \n",
      "1   50.72        4.92     60.15  301.5     2    8122    Decastar  \n",
      "2   48.95        4.92     50.31  300.2     3    8099    Decastar  \n",
      "3   40.87        5.32     62.77  280.1     4    8067    Decastar  \n",
      "4   46.26        4.72     63.44  276.4     5    8036    Decastar  \n"
     ]
    }
   ],
   "source": [
    "decathlon=pd.read_excel('decathlon.xlsx')\n",
    "print(decathlon.head())"
   ]
  },
  {
   "cell_type": "markdown",
   "id": "2d6e7ccb",
   "metadata": {},
   "source": [
    "## Inspecting and choosing the right data"
   ]
  },
  {
   "cell_type": "markdown",
   "id": "cf92447f",
   "metadata": {},
   "source": [
    "Here we can see that we have 14 columns. Although we won't use the first column as it is all about the surname of the athlete let's change its name!"
   ]
  },
  {
   "cell_type": "code",
   "execution_count": 15,
   "id": "3732d5ab",
   "metadata": {},
   "outputs": [
    {
     "name": "stdout",
     "output_type": "stream",
     "text": [
      "   Surname   100m  Long.jump  Shot.put  High.jump   400m  110m.hurdle  Discus  \\\n",
      "0   SEBRLE  11.04       7.58     14.83       2.07  49.81        14.69   43.75   \n",
      "1     CLAY  10.76       7.40     14.26       1.86  49.37        14.05   50.72   \n",
      "2   KARPOV  11.02       7.30     14.77       2.04  48.37        14.09   48.95   \n",
      "3  BERNARD  11.02       7.23     14.25       1.92  48.93        14.99   40.87   \n",
      "4   YURKOV  11.34       7.09     15.19       2.10  50.42        15.31   46.26   \n",
      "\n",
      "   Pole.vault  Javeline  1500m  Rank  Points Competition  \n",
      "0        5.02     63.19  291.7     1    8217    Decastar  \n",
      "1        4.92     60.15  301.5     2    8122    Decastar  \n",
      "2        4.92     50.31  300.2     3    8099    Decastar  \n",
      "3        5.32     62.77  280.1     4    8067    Decastar  \n",
      "4        4.72     63.44  276.4     5    8036    Decastar  \n"
     ]
    }
   ],
   "source": [
    "#renaming the first column\n",
    "decathlon.rename(columns={'Unnamed: 0':'Surname'},inplace=True)\n",
    "print(decathlon.head())"
   ]
  },
  {
   "cell_type": "markdown",
   "id": "7631f976",
   "metadata": {},
   "source": [
    "Now we will choose <b> only </b> the 10 columns that are necessary for our PCA analysis!"
   ]
  },
  {
   "cell_type": "code",
   "execution_count": 153,
   "id": "56b9b959",
   "metadata": {},
   "outputs": [
    {
     "name": "stdout",
     "output_type": "stream",
     "text": [
      "    100m  Long.jump  Shot.put  High.jump   400m  110m.hurdle  Discus  \\\n",
      "0  11.04       7.58     14.83       2.07  49.81        14.69   43.75   \n",
      "1  10.76       7.40     14.26       1.86  49.37        14.05   50.72   \n",
      "2  11.02       7.30     14.77       2.04  48.37        14.09   48.95   \n",
      "3  11.02       7.23     14.25       1.92  48.93        14.99   40.87   \n",
      "4  11.34       7.09     15.19       2.10  50.42        15.31   46.26   \n",
      "\n",
      "   Pole.vault  Javeline  1500m  \n",
      "0        5.02     63.19  291.7  \n",
      "1        4.92     60.15  301.5  \n",
      "2        4.92     50.31  300.2  \n",
      "3        5.32     62.77  280.1  \n",
      "4        4.72     63.44  276.4  \n"
     ]
    }
   ],
   "source": [
    "data=decathlon.iloc[:,1:11]\n",
    "print(data.head())"
   ]
  },
  {
   "cell_type": "markdown",
   "id": "36051a71",
   "metadata": {},
   "source": [
    "Let's print and plot the correlation between the 10 variables. We can seee that there some strong relationships between the variables so it would be a great idea to continue with the PCA analysis!"
   ]
  },
  {
   "cell_type": "code",
   "execution_count": 155,
   "id": "a740fcf1",
   "metadata": {
    "scrolled": true
   },
   "outputs": [
    {
     "name": "stdout",
     "output_type": "stream",
     "text": [
      "                 100m  Long.jump  Shot.put  High.jump      400m  110m.hurdle  \\\n",
      "100m         1.000000  -0.598678 -0.356482  -0.246253  0.520298     0.579889   \n",
      "Long.jump   -0.598678   1.000000  0.183304   0.294644 -0.602063    -0.505410   \n",
      "Shot.put    -0.356482   0.183304  1.000000   0.489212 -0.138433    -0.251616   \n",
      "High.jump   -0.246253   0.294644  0.489212   1.000000 -0.187957    -0.283289   \n",
      "400m         0.520298  -0.602063 -0.138433  -0.187957  1.000000     0.547988   \n",
      "110m.hurdle  0.579889  -0.505410 -0.251616  -0.283289  0.547988     1.000000   \n",
      "Discus      -0.221708   0.194310  0.615768   0.369218 -0.117879    -0.326201   \n",
      "Pole.vault  -0.082537   0.204014  0.061182  -0.156181 -0.079292    -0.002704   \n",
      "Javeline    -0.157746   0.119759  0.374956   0.171880  0.004232     0.008743   \n",
      "1500m       -0.060546  -0.033686  0.115803  -0.044903  0.408106     0.037540   \n",
      "\n",
      "               Discus  Pole.vault  Javeline     1500m  \n",
      "100m        -0.221708   -0.082537 -0.157746 -0.060546  \n",
      "Long.jump    0.194310    0.204014  0.119759 -0.033686  \n",
      "Shot.put     0.615768    0.061182  0.374956  0.115803  \n",
      "High.jump    0.369218   -0.156181  0.171880 -0.044903  \n",
      "400m        -0.117879   -0.079292  0.004232  0.408106  \n",
      "110m.hurdle -0.326201   -0.002704  0.008743  0.037540  \n",
      "Discus       1.000000   -0.150072  0.157890  0.258175  \n",
      "Pole.vault  -0.150072    1.000000 -0.030001  0.247448  \n",
      "Javeline     0.157890   -0.030001  1.000000 -0.180393  \n",
      "1500m        0.258175    0.247448 -0.180393  1.000000  \n"
     ]
    }
   ],
   "source": [
    "#correlation\n",
    "correlation=data.corr()\n",
    "print(correlation)"
   ]
  },
  {
   "cell_type": "code",
   "execution_count": 161,
   "id": "4faa6459",
   "metadata": {},
   "outputs": [
    {
     "data": {
      "text/plain": [
       "<AxesSubplot:>"
      ]
     },
     "execution_count": 161,
     "metadata": {},
     "output_type": "execute_result"
    },
    {
     "data": {
      "image/png": "[encoded data removed]",
      "text/plain": [
       "<Figure size 432x288 with 2 Axes>"
      ]
     },
     "metadata": {
      "needs_background": "light"
     },
     "output_type": "display_data"
    }
   ],
   "source": [
    "#heatmap\n",
    "import seaborn as sns\n",
    "sns.heatmap(correlation, annot=True,fmt=\".1f\",linewidth=.1)"
   ]
  },
  {
   "cell_type": "markdown",
   "id": "45a453b8",
   "metadata": {},
   "source": [
    "## Let's begin the analysis!"
   ]
  },
  {
   "cell_type": "markdown",
   "id": "7108ed1f",
   "metadata": {},
   "source": [
    "Now, that we have our data let's begin with our analysis! Firstly we will standardize our data."
   ]
  },
  {
   "cell_type": "code",
   "execution_count": 125,
   "id": "96d14c8b",
   "metadata": {},
   "outputs": [],
   "source": [
    "#standardizing our data\n",
    "from sklearn.preprocessing import StandardScaler\n",
    "scaler=StandardScaler()\n",
    "data_new=scaler.fit_transform(data)\n"
   ]
  },
  {
   "cell_type": "markdown",
   "id": "5e41cf96",
   "metadata": {},
   "source": [
    "Now, we will continue with the PCA part. It is obvious that our data can be summarized in a smaller dimensional space! Taking into account the <u> <i> <b> Kaiser's </b> </i> </u>  criterion which states that the components that have an eigenvalue greater than 1 are selected, we will choose the first 4 principal components. An eigenvalue greater than 1 indicates that the corresponding component explains more variance than was explained by one variable of the separate variance of each variable in the standardized matrix represents unity. The cumulative variance explance taking only the 4 components is almost 75% (74,708%). Thus, by making PCA we achieved to explain 75% of our data's variance <u> only by looking at a four-dimensional space </u> (which is a great achievement)!"
   ]
  },
  {
   "cell_type": "code",
   "execution_count": 149,
   "id": "7ea57d8f",
   "metadata": {},
   "outputs": [
    {
     "name": "stdout",
     "output_type": "stream",
     "text": [
      "  Variable name  Eigenvalue  % of explained variance ratio  \\\n",
      "0          100m    3.353703                      32.719055   \n",
      "1     Long.jump    1.780559                      17.371310   \n",
      "2      Shot.put    1.440040                      14.049167   \n",
      "3     High.jump    1.083272                      10.568504   \n",
      "4          400m    0.701893                       6.847735   \n",
      "5   110m.hurdle    0.614250                       5.992687   \n",
      "6        Discus    0.462516                       4.512353   \n",
      "7    Pole.vault    0.406799                       3.968766   \n",
      "8      Javeline    0.220185                       2.148149   \n",
      "9         1500m    0.186783                       1.822275   \n",
      "\n",
      "   % of cumulative explained variance ratio  \n",
      "0                                 32.719055  \n",
      "1                                 50.090366  \n",
      "2                                 64.139532  \n",
      "3                                 74.708036  \n",
      "4                                 81.555771  \n",
      "5                                 87.548458  \n",
      "6                                 92.060811  \n",
      "7                                 96.029577  \n",
      "8                                 98.177725  \n",
      "9                                100.000000  \n"
     ]
    }
   ],
   "source": [
    "#making the pca\n",
    "from sklearn.decomposition import PCA\n",
    "pca = PCA(n_components=10,svd_solver=\"full\")\n",
    "pca.fit(data_new)\n",
    "#taking the explained variance (eigenvalue) for each component\n",
    "variance=pca.explained_variance_\n",
    "#explained variance ratio\n",
    "variance_ratio=(pca.explained_variance_ratio_)*100\n",
    "#cumulative explained variance ratio\n",
    "cum=np.cumsum(variance_ratio)\n",
    "#bulding a dataframe\n",
    "names=data.columns\n",
    "table=pd.DataFrame({'Variable name':names,'Eigenvalue':variance,'% of explained variance ratio':variance_ratio,'% of cumulative explained variance ratio':cum})\n",
    "print(table)"
   ]
  },
  {
   "cell_type": "markdown",
   "id": "f5f4b5e9",
   "metadata": {},
   "source": [
    "Let's make the <b> scree plot </b> that is another way of judging which components it would be good to choose! We can see that after the components 3-4 the added value of each component increases but with lower degree."
   ]
  },
  {
   "cell_type": "code",
   "execution_count": 148,
   "id": "2de37914",
   "metadata": {},
   "outputs": [
    {
     "data": {
      "image/png": "[encoded data removed]",
      "text/plain": [
       "<Figure size 432x288 with 1 Axes>"
      ]
     },
     "metadata": {
      "needs_background": "light"
     },
     "output_type": "display_data"
    }
   ],
   "source": [
    "plt.bar(\n",
    "    range(1,len(pca.explained_variance_)+1),\n",
    "    pca.explained_variance_\n",
    "    )\n",
    "plt.plot(range(1,len(pca.explained_variance_)+1),np.cumsum(pca.explained_variance_),c='r',label='Cumulative Explained Variance')\n",
    "plt.legend(loc=\"best\")\n",
    "plt.show()"
   ]
  },
  {
   "cell_type": "markdown",
   "id": "923df7d2",
   "metadata": {},
   "source": [
    "<u> Now, let's take the loading scores for each component! </u>\n",
    "- The first component consists of the variables (100m, 400m and 110m hurdle). These variables are negatively loaded with the first principal component. So we could say that the first factorial axis consists of variables related to athletics. We have 100m, 400m and 100m steeplechase.\n",
    "- The second principal component consists of the variables (shot put, high jump and discus). The loadings of these variables are positive. So, this factorial axis contains variables related to the sports: high jump, shot put and discus).\n",
    "- The third principal component contains the sports (pole vault and 1500m), whose loadings are positive. So, it is concluded that this factor axis refers to the sports of pole vault and 1500m endurance.\n",
    "- Finally, the fourth principal component contains only the javelin variable, which loads positively on the factor axis."
   ]
  },
  {
   "cell_type": "code",
   "execution_count": 150,
   "id": "a3e49884",
   "metadata": {},
   "outputs": [
    {
     "name": "stdout",
     "output_type": "stream",
     "text": [
      "           100m  Long.jump  Shot.put  High.jump      400m  110m.hurdle  \\\n",
      "PCA 1 -0.428296   0.410152  0.344144   0.316194 -0.375716    -0.412554   \n",
      "PCA 2  0.141989  -0.262079  0.453947   0.265776  0.432046     0.173591   \n",
      "PCA 3 -0.155580   0.153727 -0.019724  -0.218943  0.110918    -0.078156   \n",
      "PCA 4 -0.036787   0.099010  0.185395  -0.131897  0.028503     0.282901   \n",
      "\n",
      "         Discus  Pole.vault  Javeline     1500m  \n",
      "PCA 1  0.305426    0.027831  0.153198 -0.032107  \n",
      "PCA 2  0.460024   -0.136841  0.240507  0.359805  \n",
      "PCA 3  0.036238    0.583617 -0.328742  0.659874  \n",
      "PCA 4 -0.252591    0.536495  0.692855 -0.156696  \n"
     ]
    }
   ],
   "source": [
    "#the loading scores\n",
    "loadings=pca.components_\n",
    "names=data.columns\n",
    "loadings_new=loadings[0:4]\n",
    "loadtable=pd.DataFrame(loadings_new,columns=names,index=['PCA 1','PCA 2','PCA 3','PCA 4'])\n",
    "print(loadtable)"
   ]
  },
  {
   "cell_type": "markdown",
   "id": "ee49a8dc",
   "metadata": {},
   "source": [
    "To sum up:\n",
    "- We achieved to summarize the data in a 4 - dimensional space instead of 10.\n",
    "- The four components together explain almost 75% of the variance.\n",
    "- The first component consists of the variables (100m, 400m and 110m hurdle).\n",
    "- The second principal component consists of the variables (shot put, high jump and discus).\n",
    "- The third principal component contains the sports (pole vault and 1500m).\n",
    "- Finally, the fourth principal component contains only the javelin variable"
   ]
  }
 ],
 "metadata": {
  "kernelspec": {
   "display_name": "Python 3 (ipykernel)",
   "language": "python",
   "name": "python3"
  },
  "language_info": {
   "codemirror_mode": {
    "name": "ipython",
    "version": 3
   },
   "file_extension": ".py",
   "mimetype": "text/x-python",
   "name": "python",
   "nbconvert_exporter": "python",
   "pygments_lexer": "ipython3",
   "version": "3.9.7"
  }
 },
 "nbformat": 4,
 "nbformat_minor": 5
}
